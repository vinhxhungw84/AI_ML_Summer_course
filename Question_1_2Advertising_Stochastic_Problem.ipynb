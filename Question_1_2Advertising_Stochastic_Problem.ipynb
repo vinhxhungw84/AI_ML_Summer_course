{
 "cells": [
  {
   "cell_type": "markdown",
   "id": "9e349e20",
   "metadata": {
    "id": "9e349e20"
   },
   "source": [
    "#### Question 1"
   ]
  },
  {
   "cell_type": "code",
   "execution_count": 1,
   "id": "438ce821",
   "metadata": {
    "id": "438ce821"
   },
   "outputs": [],
   "source": [
    "# dataset\n",
    "import numpy as np\n",
    "import matplotlib.pyplot as plt\n",
    "import pandas as pd\n",
    "import random\n",
    "\n",
    "def get_column(data, index):\n",
    "\n",
    "    #your code here ***********************\n",
    "    result = [row[index] for row in data]\n",
    "    #result = np.array(data)[:, index].T\n",
    "    #return column\n",
    "     \n",
    "    return result\n",
    "\n",
    "def prepare_data(file_name_dataset):\n",
    "  data = np.genfromtxt(file_name_dataset, delimiter=',', skip_header=1).tolist()\n",
    "  N = len(data)\n",
    "\n",
    "  # get tv (index=0)\n",
    "  tv_data = get_column(data, 0)\n",
    "\n",
    "  # get radio (index=1)\n",
    "  radio_data = get_column(data, 1)\n",
    "\n",
    "  # get newspaper (index=2)\n",
    "  newspaper_data = get_column(data, 2)\n",
    "\n",
    "  # get sales (index=3)\n",
    "  sales_data = get_column(data, 3)\n",
    "\n",
    "  # building X input  and y output for training\n",
    "  X = [tv_data, radio_data, newspaper_data]\n",
    "  y = sales_data\n",
    "  return X,y\n",
    "\n"
   ]
  },
  {
   "cell_type": "code",
   "execution_count": 2,
   "id": "os4lMXA63lfA",
   "metadata": {
    "id": "os4lMXA63lfA"
   },
   "outputs": [
    {
     "name": "stdout",
     "output_type": "stream",
     "text": [
      "[[230.1, 44.5, 17.2, 151.5, 180.8, 8.7, 57.5, 120.2, 8.6, 199.8, 66.1, 214.7, 23.8, 97.5, 204.1, 195.4, 67.8, 281.4, 69.2, 147.3, 218.4, 237.4, 13.2, 228.3, 62.3, 262.9, 142.9, 240.1, 248.8, 70.6, 292.9, 112.9, 97.2, 265.6, 95.7, 290.7, 266.9, 74.7, 43.1, 228.0, 202.5, 177.0, 293.6, 206.9, 25.1, 175.1, 89.7, 239.9, 227.2, 66.9, 199.8, 100.4, 216.4, 182.6, 262.7, 198.9, 7.3, 136.2, 210.8, 210.7, 53.5, 261.3, 239.3, 102.7, 131.1, 69.0, 31.5, 139.3, 237.4, 216.8, 199.1, 109.8, 26.8, 129.4, 213.4, 16.9, 27.5, 120.5, 5.4, 116.0, 76.4, 239.8, 75.3, 68.4, 213.5, 193.2, 76.3, 110.7, 88.3, 109.8, 134.3, 28.6, 217.7, 250.9, 107.4, 163.3, 197.6, 184.9, 289.7, 135.2, 222.4, 296.4, 280.2, 187.9, 238.2, 137.9, 25.0, 90.4, 13.1, 255.4, 225.8, 241.7, 175.7, 209.6, 78.2, 75.1, 139.2, 76.4, 125.7, 19.4, 141.3, 18.8, 224.0, 123.1, 229.5, 87.2, 7.8, 80.2, 220.3, 59.6, 0.7, 265.2, 8.4, 219.8, 36.9, 48.3, 25.6, 273.7, 43.0, 184.9, 73.4, 193.7, 220.5, 104.6, 96.2, 140.3, 240.1, 243.2, 38.0, 44.7, 280.7, 121.0, 197.6, 171.3, 187.8, 4.1, 93.9, 149.8, 11.7, 131.7, 172.5, 85.7, 188.4, 163.5, 117.2, 234.5, 17.9, 206.8, 215.4, 284.3, 50.0, 164.5, 19.6, 168.4, 222.4, 276.9, 248.4, 170.2, 276.7, 165.6, 156.6, 218.5, 56.2, 287.6, 253.8, 205.0, 139.5, 191.1, 286.0, 18.7, 39.5, 75.5, 17.2, 166.8, 149.7, 38.2, 94.2, 177.0, 283.6, 232.1], [37.8, 39.3, 45.9, 41.3, 10.8, 48.9, 32.8, 19.6, 2.1, 2.6, 5.8, 24.0, 35.1, 7.6, 32.9, 47.7, 36.6, 39.6, 20.5, 23.9, 27.7, 5.1, 15.9, 16.9, 12.6, 3.5, 29.3, 16.7, 27.1, 16.0, 28.3, 17.4, 1.5, 20.0, 1.4, 4.1, 43.8, 49.4, 26.7, 37.7, 22.3, 33.4, 27.7, 8.4, 25.7, 22.5, 9.9, 41.5, 15.8, 11.7, 3.1, 9.6, 41.7, 46.2, 28.8, 49.4, 28.1, 19.2, 49.6, 29.5, 2.0, 42.7, 15.5, 29.6, 42.8, 9.3, 24.6, 14.5, 27.5, 43.9, 30.6, 14.3, 33.0, 5.7, 24.6, 43.7, 1.6, 28.5, 29.9, 7.7, 26.7, 4.1, 20.3, 44.5, 43.0, 18.4, 27.5, 40.6, 25.5, 47.8, 4.9, 1.5, 33.5, 36.5, 14.0, 31.6, 3.5, 21.0, 42.3, 41.7, 4.3, 36.3, 10.1, 17.2, 34.3, 46.4, 11.0, 0.3, 0.4, 26.9, 8.2, 38.0, 15.4, 20.6, 46.8, 35.0, 14.3, 0.8, 36.9, 16.0, 26.8, 21.7, 2.4, 34.6, 32.3, 11.8, 38.9, 0.0, 49.0, 12.0, 39.6, 2.9, 27.2, 33.5, 38.6, 47.0, 39.0, 28.9, 25.9, 43.9, 17.0, 35.4, 33.2, 5.7, 14.8, 1.9, 7.3, 49.0, 40.3, 25.8, 13.9, 8.4, 23.3, 39.7, 21.1, 11.6, 43.5, 1.3, 36.9, 18.4, 18.1, 35.8, 18.1, 36.8, 14.7, 3.4, 37.6, 5.2, 23.6, 10.6, 11.6, 20.9, 20.1, 7.1, 3.4, 48.9, 30.2, 7.8, 2.3, 10.0, 2.6, 5.4, 5.7, 43.0, 21.3, 45.1, 2.1, 28.7, 13.9, 12.1, 41.1, 10.8, 4.1, 42.0, 35.6, 3.7, 4.9, 9.3, 42.0, 8.6], [69.2, 45.1, 69.3, 58.5, 58.4, 75.0, 23.5, 11.6, 1.0, 21.2, 24.2, 4.0, 65.9, 7.2, 46.0, 52.9, 114.0, 55.8, 18.3, 19.1, 53.4, 23.5, 49.6, 26.2, 18.3, 19.5, 12.6, 22.9, 22.9, 40.8, 43.2, 38.6, 30.0, 0.3, 7.4, 8.5, 5.0, 45.7, 35.1, 32.0, 31.6, 38.7, 1.8, 26.4, 43.3, 31.5, 35.7, 18.5, 49.9, 36.8, 34.6, 3.6, 39.6, 58.7, 15.9, 60.0, 41.4, 16.6, 37.7, 9.3, 21.4, 54.7, 27.3, 8.4, 28.9, 0.9, 2.2, 10.2, 11.0, 27.2, 38.7, 31.7, 19.3, 31.3, 13.1, 89.4, 20.7, 14.2, 9.4, 23.1, 22.3, 36.9, 32.5, 35.6, 33.8, 65.7, 16.0, 63.2, 73.4, 51.4, 9.3, 33.0, 59.0, 72.3, 10.9, 52.9, 5.9, 22.0, 51.2, 45.9, 49.8, 100.9, 21.4, 17.9, 5.3, 59.0, 29.7, 23.2, 25.6, 5.5, 56.5, 23.2, 2.4, 10.7, 34.5, 52.7, 25.6, 14.8, 79.2, 22.3, 46.2, 50.4, 15.6, 12.4, 74.2, 25.9, 50.6, 9.2, 3.2, 43.1, 8.7, 43.0, 2.1, 45.1, 65.6, 8.5, 9.3, 59.7, 20.5, 1.7, 12.9, 75.6, 37.9, 34.4, 38.9, 9.0, 8.7, 44.3, 11.9, 20.6, 37.0, 48.7, 14.2, 37.7, 9.5, 5.7, 50.5, 24.3, 45.2, 34.6, 30.7, 49.3, 25.6, 7.4, 5.4, 84.8, 21.6, 19.4, 57.6, 6.4, 18.4, 47.4, 17.0, 12.8, 13.1, 41.8, 20.3, 35.2, 23.7, 17.6, 8.3, 27.4, 29.7, 71.8, 30.0, 19.6, 26.6, 18.2, 3.7, 23.4, 5.8, 6.0, 31.6, 3.6, 6.0, 13.8, 8.1, 6.4, 66.2, 8.7]]\n",
      "[624.1, 175.1, 300.5, 78.9]\n"
     ]
    }
   ],
   "source": [
    "#Multiple choices:\n",
    "#Question 1:\n",
    "X,y = prepare_data('advertising.csv')\n",
    "print(X)\n",
    "list = [sum(X[0][:5]), sum(X[1][:5]), sum(X[2][:5]), sum(y[:5])]\n",
    "print(list)\n"
   ]
  },
  {
   "cell_type": "markdown",
   "id": "GnEfQX9ogT1_",
   "metadata": {
    "id": "GnEfQX9ogT1_"
   },
   "source": [
    "###Question 2"
   ]
  },
  {
   "cell_type": "code",
   "execution_count": 4,
   "id": "cc65ed05",
   "metadata": {
    "id": "cc65ed05"
   },
   "outputs": [],
   "source": [
    "# compute output and loss\n",
    "\n",
    "\n",
    "#print(one)\n",
    "#X_new = np.dot(X,one) #\n",
    "#print(X_new)\n",
    "x1 = np.array([X[0]]).T\n",
    "x2 = np.array([X[1]]).T\n",
    "x3 = np.array([X[2]]).T\n",
    "    #one = np.ones((x1.shape[0],1))\n",
    "    #X_new = np.concatenate((x1,x2,x3,one),1)\n",
    "#print(W)\n",
    "#w1,w2,w3,b = initialize_params()\n",
    "def predict(x1, x2, x3, w1, w2, w3, b):\n",
    "    \n",
    "    #W = np.array([[w1], [w2], [w3], [b]])\n",
    "\n",
    " \n",
    "      #your code here ***********************\n",
    "    #result = np.dot(X_new.T, W)\n",
    "    \n",
    "    coefficients = np.array([w1,w2,w3,b])\n",
    "    \n",
    "    var = np.array([x1,x2,x3,1])\n",
    "    #print(var)\n",
    "    lhs = np.sum(coefficients * var)\n",
    "    result = lhs\n",
    "    #result = w1 * x1 + w2 * x2 + w3 * x3 + b\n",
    "    return result\n",
    "def compute_loss_mse(y_hat, y):\n",
    "\n",
    "        #your code here ***********************\n",
    "    result = (y_hat - y)**2\n",
    "    return result\n",
    "\n",
    "def compute_loss_mae(y_hat, y):\n",
    "\n",
    "        #your code here ***********************\n",
    "    result = abs(y_hat - y)\n",
    "    return result\n",
    "\n",
    "# compute gradient\n",
    "def compute_gradient_wi(xi, y, y_hat):\n",
    "\n",
    "         #your code here ***********************\n",
    "    dl_dwi = 2 * (y_hat - y) * xi\n",
    "    return dl_dwi \n",
    "\n",
    "def compute_gradient_b(y, y_hat):\n",
    "\n",
    "         #your code here ***********************\n",
    "    dl_db = 2 * (y_hat - y)\n",
    "    return dl_db\n",
    "\n",
    "# update weights\n",
    "def update_weight_wi(wi, dl_dwi, lr):\n",
    "\n",
    "        #your code here ***********************\n",
    "    wi = wi - lr * dl_dwi\n",
    "    return wi\n",
    "    \n",
    "def update_weight_b(b, dl_db, lr):    \n",
    "  \n",
    "         #your code here ***********************\n",
    "    b = b - lr * dl_db\n",
    "    return b"
   ]
  },
  {
   "cell_type": "code",
   "execution_count": 5,
   "id": "nkm9-LCSRWKv",
   "metadata": {
    "id": "nkm9-LCSRWKv"
   },
   "outputs": [
    {
     "name": "stdout",
     "output_type": "stream",
     "text": [
      "1.0\n"
     ]
    }
   ],
   "source": [
    "#Multiple choices:\n",
    "#Question 2:\n",
    "y_p = predict(x1=1, x2=1, x3=1, w1=0, w2=0.5, w3=0, b=0.5)\n",
    "print(y_p)"
   ]
  },
  {
   "cell_type": "code",
   "execution_count": 6,
   "id": "14wcs223SOQA",
   "metadata": {
    "id": "14wcs223SOQA"
   },
   "outputs": [
    {
     "name": "stdout",
     "output_type": "stream",
     "text": [
      "0.25\n"
     ]
    }
   ],
   "source": [
    "#Multiple choices:\n",
    "#Question 3:\n",
    "l = compute_loss_mse(y_hat=1, y=0.5)\n",
    "print(l)"
   ]
  },
  {
   "cell_type": "code",
   "execution_count": 7,
   "id": "V0rMsFjEclbB",
   "metadata": {
    "id": "V0rMsFjEclbB"
   },
   "outputs": [
    {
     "name": "stdout",
     "output_type": "stream",
     "text": [
      "0.5\n"
     ]
    }
   ],
   "source": [
    "#Multiple choices:\n",
    "#Question 10:\n",
    "l = compute_loss_mae(y_hat=1, y=0.5)\n",
    "print(l)"
   ]
  },
  {
   "cell_type": "code",
   "execution_count": 8,
   "id": "28f3addc",
   "metadata": {
    "id": "28f3addc"
   },
   "outputs": [
    {
     "name": "stdout",
     "output_type": "stream",
     "text": [
      "-1.0\n"
     ]
    }
   ],
   "source": [
    "#Multiple choices:\n",
    "#Question 4:\n",
    "g_wi = compute_gradient_wi(xi=1.0, y=1.0, y_hat=0.5)\n",
    "print(g_wi)"
   ]
  },
  {
   "cell_type": "code",
   "execution_count": 9,
   "id": "7ZO0BQYmTKfc",
   "metadata": {
    "id": "7ZO0BQYmTKfc"
   },
   "outputs": [
    {
     "name": "stdout",
     "output_type": "stream",
     "text": [
      "-3.0\n"
     ]
    }
   ],
   "source": [
    "#Multiple choices:\n",
    "#Question 5:\n",
    "g_b =  compute_gradient_b(y=2.0, y_hat=0.5)\n",
    "print(g_b)"
   ]
  },
  {
   "cell_type": "code",
   "execution_count": 10,
   "id": "6Hmq6SIPTpDu",
   "metadata": {
    "id": "6Hmq6SIPTpDu"
   },
   "outputs": [
    {
     "name": "stdout",
     "output_type": "stream",
     "text": [
      "1.000005\n"
     ]
    }
   ],
   "source": [
    "#Multiple choices:\n",
    "#Question 6:\n",
    "after_wi = update_weight_wi(wi=1.0, dl_dwi=-0.5, lr=1e-5)\n",
    "print(after_wi)"
   ]
  },
  {
   "cell_type": "code",
   "execution_count": 11,
   "id": "jJZp57H7Uc20",
   "metadata": {
    "id": "jJZp57H7Uc20"
   },
   "outputs": [
    {
     "name": "stdout",
     "output_type": "stream",
     "text": [
      "0.50001\n"
     ]
    }
   ],
   "source": [
    "#Multiple choices:\n",
    "#Question 7:\n",
    "after_b = update_weight_b(b=0.5, dl_db=-1.0, lr=1e-5)\n",
    "print(after_b)    \n"
   ]
  },
  {
   "cell_type": "code",
   "execution_count": 12,
   "id": "918b429f",
   "metadata": {
    "colab": {
     "base_uri": "https://localhost:8080/"
    },
    "id": "918b429f",
    "outputId": "4ec16af1-c414-45f5-dd5a-956125bf0115"
   },
   "outputs": [
    {
     "name": "stdout",
     "output_type": "stream",
     "text": [
      "(0.016992259082509283, 0.0070783670518262355, -0.002307860847821344, 0)\n"
     ]
    }
   ],
   "source": [
    "def initialize_params():\n",
    "    #w1 = random.gauss(mu=0.0, sigma=0.01)\n",
    "    #w2 = random.gauss(mu=0.0, sigma=0.01)\n",
    "    #w3 = random.gauss(mu=0.0, sigma=0.01)\n",
    "    #b  = 0\n",
    "#Vì để thống nhất việc đánh giá kết quả cho toàn bài tập trong module này, các bạn được\n",
    "#yêu cầu khởi tạo cố định wi, cũng như b như sau (trong thực tế bạn nên sử dụng hàm random phía trên nhé):\n",
    "    w1, w2, w3, b = (0.016992259082509283, 0.0070783670518262355,-0.002307860847821344, 0)\n",
    "    return w1, w2, w3, b\n",
    "\n",
    "print(initialize_params())"
   ]
  },
  {
   "cell_type": "code",
   "execution_count": null,
   "id": "c43afd0a",
   "metadata": {
    "id": "c43afd0a"
   },
   "outputs": [],
   "source": []
  },
  {
   "cell_type": "code",
   "execution_count": 13,
   "id": "94ea37a5",
   "metadata": {
    "id": "94ea37a5"
   },
   "outputs": [],
   "source": [
    "\n",
    "def implement_linear_regression(X_data, y_data, epoch_max=50, lr=1e-5):\n",
    "  losses = []\n",
    "\n",
    "  w1, w2, w3, b = initialize_params()\n",
    " \n",
    "  N = len(y_data)\n",
    "  for epoch in range(epoch_max):\n",
    "      for i in range(N):\n",
    "          # get a sample\n",
    "          x1 = X_data[0][i]\n",
    "          x2 = X_data[1][i]\n",
    "          x3 = X_data[2][i]\n",
    "\n",
    "          y  = y_data[i]\n",
    "\n",
    "          # print(y)\n",
    "          # compute output \n",
    "          y_hat = predict(x1, x2, x3, w1, w2, w3, b)\n",
    "          \n",
    "          # compute loss\n",
    "          loss = compute_loss_mse(y, y_hat)\n",
    "\n",
    "          # compute gradient w1, w2, w3, b\n",
    "          dl_dw1 = compute_gradient_wi(x1, y, y_hat)\n",
    "          dl_dw2 = compute_gradient_wi(x2, y, y_hat)\n",
    "          dl_dw3 = compute_gradient_wi(x3, y, y_hat)\n",
    "          dl_db  = compute_gradient_b(y, y_hat)\n",
    "\n",
    "          # update parameters\n",
    "          w1 = update_weight_wi(w1, dl_dw1, lr)\n",
    "          w2 = update_weight_wi(w2, dl_dw2, lr)\n",
    "          w3 = update_weight_wi(w3, dl_dw3, lr)\n",
    "          b  = update_weight_b(b, dl_db, lr)\n",
    "\n",
    "          # logging\n",
    "          losses.append(loss) \n",
    "  return (w1,w2,w3,b, losses)"
   ]
  },
  {
   "cell_type": "code",
   "execution_count": 14,
   "id": "091d717c",
   "metadata": {
    "id": "091d717c"
   },
   "outputs": [
    {
     "data": {
      "image/png": "[encoded data removed]",
      "text/plain": [
       "<Figure size 640x480 with 1 Axes>"
      ]
     },
     "metadata": {},
     "output_type": "display_data"
    }
   ],
   "source": [
    "X,y = prepare_data('advertising.csv')\n",
    "(w1,w2,w3,b, losses) = implement_linear_regression(X,y)\n",
    "plt.plot(losses[:100])\n",
    "plt.xlabel(\"#iteration\")\n",
    "plt.ylabel(\"Loss\")\n",
    "plt.show()"
   ]
  },
  {
   "cell_type": "code",
   "execution_count": 15,
   "id": "9lMEgCsiOLiR",
   "metadata": {
    "id": "9lMEgCsiOLiR"
   },
   "outputs": [
    {
     "name": "stdout",
     "output_type": "stream",
     "text": [
      "0.07405984066396477 0.15917360263437663 0.017561197559948935\n"
     ]
    }
   ],
   "source": [
    "#Multiple choices:\n",
    "#Question 8:\n",
    "X,y = prepare_data('advertising.csv')\n",
    "(w1,w2,w3,b, losses) = implement_linear_regression(X,y)\n",
    "print(w1,w2,w3)"
   ]
  },
  {
   "cell_type": "markdown",
   "id": "143c7817",
   "metadata": {
    "id": "143c7817"
   },
   "source": [
    "#### Inference"
   ]
  },
  {
   "cell_type": "code",
   "execution_count": 16,
   "id": "9042ab0f",
   "metadata": {
    "id": "9042ab0f"
   },
   "outputs": [
    {
     "name": "stdout",
     "output_type": "stream",
     "text": [
      "predicted sales is 8.176413319549823\n"
     ]
    }
   ],
   "source": [
    "#Multiple choices:\n",
    "#Question 9:\n",
    "# given new data\n",
    "tv = 19.2\n",
    "radio = 35.9 \n",
    "newspaper = 51.3\n",
    "\n",
    "X,y = prepare_data('advertising.csv')\n",
    "(w1,w2,w3,b, losses) = implement_linear_regression(X,y)\n",
    "sales = predict(tv, radio, newspaper, w1, w2, w3, b)\n",
    "print(f'predicted sales is {sales}')"
   ]
  },
  {
   "cell_type": "code",
   "execution_count": 17,
   "id": "26496013",
   "metadata": {
    "id": "26496013"
   },
   "outputs": [
    {
     "name": "stdout",
     "output_type": "stream",
     "text": [
      "predicted sales is 24.412408996908397\n"
     ]
    }
   ],
   "source": [
    "# [230.1, 37.8, 69.2, 22.1]\n",
    "\n",
    "tv = 230.1\n",
    "radio = 37.8 \n",
    "newspaper = 69.2\n",
    "\n",
    "sales = predict(tv, radio, newspaper, w1, w2, w3, b)\n",
    "print(f'predicted sales is {sales}')"
   ]
  }
 ],
 "metadata": {
  "colab": {
   "provenance": []
  },
  "kernelspec": {
   "display_name": "Python 3 (ipykernel)",
   "language": "python",
   "name": "python3"
  },
  "language_info": {
   "codemirror_mode": {
    "name": "ipython",
    "version": 3
   },
   "file_extension": ".py",
   "mimetype": "text/x-python",
   "name": "python",
   "nbconvert_exporter": "python",
   "pygments_lexer": "ipython3",
   "version": "3.12.4"
  }
 },
 "nbformat": 4,
 "nbformat_minor": 5
}
